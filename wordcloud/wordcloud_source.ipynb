{
 "cells": [
  {
   "cell_type": "markdown",
   "metadata": {},
   "source": [
    "# 파이썬으로 하는 데이터 시각화 - 워드클라우드 \n",
    "\n",
    "### 1. 데이터 시각화 = (데이터 처리 후) 시각화\n",
    "### 2. 데이터 형식 : txt, csv, json 등등\n",
    "### 3. 데이터 처리 : 시각화를 할 수 있는 형식으로 만들기 위해 데이터를 손질해줘야 한다 - 데이터 분석 및 시각화 작업의 80% 이상\n",
    "* ex) 워드 클라우드를 만들기 위한 데이터 처리 : \"이디야는 좋은 원두를 사용하기 때문에 아메리카노와 라떼가 맛있다\" => ['이디야', '원두', '아메리카노', '라떼']\n",
    "\n",
    "### 4. 사용할 라이브러리\n",
    "* 데이터 처리를 위한 라이브러리 : numpy, KoNLpy\n",
    "* 데이터 시각화를 위한 라이브러리 : matplotlib, wordcloud"
   ]
  },
  {
   "cell_type": "markdown",
   "metadata": {},
   "source": [
    "#### 파일 열기 -  https://www.w3schools.com/python/python_file_open.asp"
   ]
  },
  {
   "cell_type": "code",
   "execution_count": null,
   "metadata": {},
   "outputs": [],
   "source": [
    "speech = \"\"\n",
    "with open('moon_speech.txt', 'r', encoding='utf-8') as t:\n",
    "    speech = t.read().splitlines()\n",
    "    "
   ]
  },
  {
   "cell_type": "markdown",
   "metadata": {},
   "source": [
    "### KoNLPy를 이용한 한글 형태소 분석\n",
    "\n",
    "http://konlpy.org/\n",
    "\n",
    "#### KoNLPy 패키지에 있는 komoran 형태소 분석기 사용\n",
    "https://github.com/shineware/KOMORAN\n",
    "* POS = Part Of Speech\n",
    "* 품사표 : https://docs.komoran.kr/firststep/postypes.html"
   ]
  },
  {
   "cell_type": "code",
   "execution_count": null,
   "metadata": {},
   "outputs": [],
   "source": [
    "from konlpy.tag import Komoran\n",
    "tagger = Komoran()"
   ]
  },
  {
   "cell_type": "code",
   "execution_count": null,
   "metadata": {},
   "outputs": [],
   "source": [
    "tags = tagger.pos(speech[1])\n",
    "tagged_speech = [tagger.pos(line) for line in speech]\n"
   ]
  },
  {
   "cell_type": "code",
   "execution_count": null,
   "metadata": {},
   "outputs": [],
   "source": [
    "# 연설문의 명사 추출하기\n",
    "speech_nouns = []\n",
    "for sentence in tagged_speech:"
   ]
  },
  {
   "cell_type": "code",
   "execution_count": null,
   "metadata": {},
   "outputs": [],
   "source": [
    "from collections import Counter\n"
   ]
  },
  {
   "cell_type": "markdown",
   "metadata": {},
   "source": [
    "### Word Cloud\n",
    "* 파이썬 시각화 도구인 matplotlib 사용 : https://matplotlib.org\n",
    "* wordcloud 사용 : http://amueller.github.io/word_cloud/"
   ]
  },
  {
   "cell_type": "code",
   "execution_count": null,
   "metadata": {},
   "outputs": [],
   "source": [
    "import matplotlib.pyplot as plt\n",
    "from wordcloud import WordCloud, ImageColorGenerator"
   ]
  },
  {
   "cell_type": "code",
   "execution_count": null,
   "metadata": {},
   "outputs": [],
   "source": [
    "# 워드클라우드 속성 설정\n"
   ]
  },
  {
   "cell_type": "code",
   "execution_count": null,
   "metadata": {},
   "outputs": [],
   "source": [
    "# noun_counts에 맞게 워드 클라우드 크기 설정\n",
    "cloud = cloud.fit_words(noun_counts)"
   ]
  },
  {
   "cell_type": "code",
   "execution_count": null,
   "metadata": {},
   "outputs": [],
   "source": [
    "# plt를 이용해 워드클라우드 그리기\n",
    "plt.figure(figsize=(12, 12))\n",
    "plt.axis('off')\n",
    "plt.imshow(cloud)\n",
    "plt.show()"
   ]
  },
  {
   "cell_type": "code",
   "execution_count": null,
   "metadata": {},
   "outputs": [],
   "source": [
    "# 고양이 모양의 워드 클라우드 만들기\n",
    "from PIL import Image\n",
    "import numpy as np\n",
    "\n",
    "cat = np.array(Image.open(\"cat.png\"))\n",
    "cat[cat.sum(axis=2) == 0] = 255"
   ]
  }
 ],
 "metadata": {
  "kernelspec": {
   "display_name": "Python 3",
   "language": "python",
   "name": "python3"
  },
  "language_info": {
   "codemirror_mode": {
    "name": "ipython",
    "version": 3
   },
   "file_extension": ".py",
   "mimetype": "text/x-python",
   "name": "python",
   "nbconvert_exporter": "python",
   "pygments_lexer": "ipython3",
   "version": "3.7.4"
  }
 },
 "nbformat": 4,
 "nbformat_minor": 2
}
